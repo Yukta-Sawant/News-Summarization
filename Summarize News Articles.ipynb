{
 "cells": [
  {
   "cell_type": "code",
   "execution_count": 3,
   "metadata": {},
   "outputs": [],
   "source": [
    "import tkinter as tk    \n",
    "import nltk\n",
    "\n",
    "from textblob import TextBlob\n",
    "from newspaper import Article\n"
   ]
  },
  {
   "cell_type": "code",
   "execution_count": 2,
   "metadata": {},
   "outputs": [],
   "source": [
    "def summarize():\n",
    "    url = utext.get('1.0', \"end\").strip()\n",
    "    try:\n",
    "        article = Article(url)\n",
    "        article.download()\n",
    "        article.parse()\n",
    "        article.nlp()\n",
    "\n",
    "        title.config(state='normal')\n",
    "        author.config(state='normal')\n",
    "        publication.config(state='normal')\n",
    "        summary.config(state='normal')\n",
    "        sentiment.config(state='normal')\n",
    "\n",
    "        title.delete('1.0', 'end')\n",
    "        title.insert('1.0', article.title)\n",
    "\n",
    "        author.delete('1.0', 'end')\n",
    "        author.insert('1.0', article.authors)\n",
    "\n",
    "        publication.delete('1.0', 'end')\n",
    "        publication.insert('1.0', article.publish_date)\n",
    "\n",
    "        summary.delete('1.0', 'end')\n",
    "        summary.insert('1.0', article.summary)\n",
    "\n",
    "        analysis = TextBlob(article.text)\n",
    "        sentiment.delete('1.0', 'end')\n",
    "        sentiment.insert('1.0', f'Polarity: {analysis.polarity}, Sentiment: {\"positive\" if analysis.polarity > 0 else \"negative\" if analysis.polarity < 0 else \"neutral\"}')\n",
    "\n",
    "        title.config(state='disabled')\n",
    "        author.config(state='disabled')\n",
    "        publication.config(state='disabled')\n",
    "        summary.config(state='disabled')\n",
    "        sentiment.config(state='disabled')\n",
    "\n",
    "    except ArticleException as e:\n",
    "        print(f\"Error fetching article: {e}\")\n",
    "        clear_widgets()\n",
    "\n",
    "def clear_widgets():\n",
    "    title.config(state='normal')\n",
    "    title.delete('1.0', 'end')\n",
    "    title.config(state='disabled')\n",
    "\n",
    "    author.config(state='normal')\n",
    "    author.delete('1.0', 'end')\n",
    "    author.config(state='disabled')\n",
    "\n",
    "    publication.config(state='normal')\n",
    "    publication.delete('1.0', 'end')\n",
    "    publication.config(state='disabled')\n",
    "\n",
    "    summary.config(state='normal')\n",
    "    summary.delete('1.0', 'end')\n",
    "    summary.config(state='disabled')\n",
    "\n",
    "    sentiment.config(state='normal')\n",
    "    sentiment.delete('1.0', 'end')\n",
    "    sentiment.config(state='disabled')"
   ]
  },
  {
   "cell_type": "code",
   "execution_count": 4,
   "metadata": {},
   "outputs": [
    {
     "data": {
      "text/plain": [
       "''"
      ]
     },
     "execution_count": 4,
     "metadata": {},
     "output_type": "execute_result"
    }
   ],
   "source": [
    "root=tk.Tk()\n",
    "root.title(\"News Summarizer\")\n",
    "root.geometry('1200x600')"
   ]
  },
  {
   "cell_type": "code",
   "execution_count": 5,
   "metadata": {},
   "outputs": [],
   "source": [
    "tlabel=tk.Label(root, text=\"Title\")\n",
    "tlabel.pack()\n",
    "\n",
    "title=tk.Text(root,height=1,width=140)\n",
    "title.config(state='disabled', bg='#dddddd')\n",
    "title.pack()\n"
   ]
  },
  {
   "cell_type": "code",
   "execution_count": 6,
   "metadata": {},
   "outputs": [],
   "source": [
    "alabel=tk.Label(root, text=\"Author\")\n",
    "alabel.pack()\n",
    "\n",
    "author=tk.Text(root,height=1,width=140)\n",
    "author.config(state='disabled', bg='#dddddd')\n",
    "author.pack()\n"
   ]
  },
  {
   "cell_type": "code",
   "execution_count": 7,
   "metadata": {},
   "outputs": [],
   "source": [
    "plabel=tk.Label(root, text=\"Publishing Date\")\n",
    "plabel.pack()\n",
    "\n",
    "publication=tk.Text(root,height=1,width=140)\n",
    "publication.config(state='disabled', bg='#dddddd')\n",
    "publication.pack()"
   ]
  },
  {
   "cell_type": "code",
   "execution_count": 8,
   "metadata": {},
   "outputs": [],
   "source": [
    "slabel=tk.Label(root, text=\"Summary\")\n",
    "slabel.pack()\n",
    "\n",
    "summary=tk.Text(root,height=20,width=140)\n",
    "summary.config(state='disabled', bg='#dddddd')\n",
    "summary.pack()"
   ]
  },
  {
   "cell_type": "code",
   "execution_count": 9,
   "metadata": {},
   "outputs": [],
   "source": [
    "selabel=tk.Label(root, text=\"Sentiment Analysis\")\n",
    "selabel.pack()\n",
    "\n",
    "sentiment=tk.Text(root,height=1,width=140)\n",
    "sentiment.config(state='disabled', bg='#dddddd')\n",
    "sentiment.pack()\n",
    "\n",
    "\n"
   ]
  },
  {
   "cell_type": "code",
   "execution_count": 10,
   "metadata": {},
   "outputs": [],
   "source": [
    "ulabel=tk.Label(root, text=\"URL\")\n",
    "ulabel.pack()\n",
    "\n",
    "utext=tk.Text(root,height=1,width=140)\n",
    "utext.pack()"
   ]
  },
  {
   "cell_type": "code",
   "execution_count": 11,
   "metadata": {},
   "outputs": [],
   "source": [
    "btn=tk.Button(root, text=\"Summarize\", command=summarize)\n",
    "btn.pack()"
   ]
  },
  {
   "cell_type": "code",
   "execution_count": 12,
   "metadata": {},
   "outputs": [],
   "source": [
    "root.mainloop()"
   ]
  }
 ],
 "metadata": {
  "kernelspec": {
   "display_name": "base",
   "language": "python",
   "name": "python3"
  },
  "language_info": {
   "codemirror_mode": {
    "name": "ipython",
    "version": 3
   },
   "file_extension": ".py",
   "mimetype": "text/x-python",
   "name": "python",
   "nbconvert_exporter": "python",
   "pygments_lexer": "ipython3",
   "version": "3.12.4"
  }
 },
 "nbformat": 4,
 "nbformat_minor": 2
}
